{
 "cells": [
  {
   "cell_type": "markdown",
   "metadata": {},
   "source": [
    "# Data Processing\n",
    "\n",
    "Goal: Understand and clean our data so we can derive better insights"
   ]
  },
  {
   "cell_type": "markdown",
   "metadata": {},
   "source": [
    "## 1. Import Libraries"
   ]
  },
  {
   "cell_type": "code",
   "execution_count": 2,
   "metadata": {},
   "outputs": [
    {
     "name": "stderr",
     "output_type": "stream",
     "text": [
      "/var/folders/r4/fbbvmvd16633t8bw5262q18c0000gn/T/ipykernel_46944/4080736814.py:1: DeprecationWarning: \n",
      "Pyarrow will become a required dependency of pandas in the next major release of pandas (pandas 3.0),\n",
      "(to allow more performant data types, such as the Arrow string type, and better interoperability with other libraries)\n",
      "but was not found to be installed on your system.\n",
      "If this would cause problems for you,\n",
      "please provide us feedback at https://github.com/pandas-dev/pandas/issues/54466\n",
      "        \n",
      "  import pandas as pd\n"
     ]
    }
   ],
   "source": [
    "import pandas as pd"
   ]
  },
  {
   "cell_type": "markdown",
   "metadata": {},
   "source": [
    "## 2. Load the Dataset"
   ]
  },
  {
   "cell_type": "code",
   "execution_count": 11,
   "metadata": {},
   "outputs": [],
   "source": [
    "df = pd.read_csv(\"data/NY-House-Dataset-Small.csv\")"
   ]
  },
  {
   "cell_type": "code",
   "execution_count": null,
   "metadata": {},
   "outputs": [],
   "source": [
    "df.info()\n",
    "df.columns"
   ]
  },
  {
   "cell_type": "markdown",
   "metadata": {},
   "source": [
    "## 3. Handle Duplicates"
   ]
  },
  {
   "cell_type": "code",
   "execution_count": null,
   "metadata": {},
   "outputs": [],
   "source": [
    "# Find the duplicated rows\n",
    "df.duplicated().sum()\n",
    "\n",
    "# Find duplicates by a specific column\n",
    "df.duplicated([\"MAIN_ADDRESS\"]).sum()\n",
    "\n",
    "# Filter to get duplicated rows\n",
    "df.loc[df.duplicated()]\n",
    "\n",
    "# Display all of the duplicates\n",
    "df.loc[df.duplicated(keep=False)].sort_values([\"PRICE\"])"
   ]
  },
  {
   "cell_type": "code",
   "execution_count": 198,
   "metadata": {},
   "outputs": [],
   "source": [
    "# Drop duplicates. Keeps the first by default.\n",
    "df = df.drop_duplicates()"
   ]
  },
  {
   "cell_type": "code",
   "execution_count": 199,
   "metadata": {},
   "outputs": [
    {
     "data": {
      "text/plain": [
       "(4761, 11)"
      ]
     },
     "execution_count": 199,
     "metadata": {},
     "output_type": "execute_result"
    }
   ],
   "source": [
    "df.shape"
   ]
  },
  {
   "cell_type": "markdown",
   "metadata": {},
   "source": [
    "## 4. Handle Missing Data"
   ]
  },
  {
   "cell_type": "markdown",
   "metadata": {},
   "source": [
    "#### Generally Dropping Data"
   ]
  },
  {
   "cell_type": "code",
   "execution_count": 15,
   "metadata": {},
   "outputs": [
    {
     "data": {
      "text/html": [
       "<div>\n",
       "<style scoped>\n",
       "    .dataframe tbody tr th:only-of-type {\n",
       "        vertical-align: middle;\n",
       "    }\n",
       "\n",
       "    .dataframe tbody tr th {\n",
       "        vertical-align: top;\n",
       "    }\n",
       "\n",
       "    .dataframe thead th {\n",
       "        text-align: right;\n",
       "    }\n",
       "</style>\n",
       "<table border=\"1\" class=\"dataframe\">\n",
       "  <thead>\n",
       "    <tr style=\"text-align: right;\">\n",
       "      <th></th>\n",
       "      <th>BROKERTITLE</th>\n",
       "      <th>TYPE</th>\n",
       "      <th>PRICE</th>\n",
       "      <th>BEDS</th>\n",
       "      <th>BATH</th>\n",
       "      <th>PROPERTYSQFT</th>\n",
       "      <th>STATE</th>\n",
       "      <th>MAIN_ADDRESS</th>\n",
       "      <th>ADMINISTRATIVE_AREA_LEVEL_2</th>\n",
       "      <th>LOCALITY</th>\n",
       "      <th>SUBLOCALITY</th>\n",
       "    </tr>\n",
       "  </thead>\n",
       "  <tbody>\n",
       "    <tr>\n",
       "      <th>2</th>\n",
       "      <td>Brokered by Sowae Corp</td>\n",
       "      <td>House for sale</td>\n",
       "      <td>260000</td>\n",
       "      <td>4</td>\n",
       "      <td>2.000000</td>\n",
       "      <td>2015.000000</td>\n",
       "      <td>Staten Island, NY 10312</td>\n",
       "      <td>620 Sinclair AveStaten Island, NY 10312</td>\n",
       "      <td>NaN</td>\n",
       "      <td>New York</td>\n",
       "      <td>Richmond County</td>\n",
       "    </tr>\n",
       "    <tr>\n",
       "      <th>3</th>\n",
       "      <td>Brokered by COMPASS</td>\n",
       "      <td>Condo for sale</td>\n",
       "      <td>69000</td>\n",
       "      <td>3</td>\n",
       "      <td>1.000000</td>\n",
       "      <td>445.000000</td>\n",
       "      <td>Manhattan, NY 10022</td>\n",
       "      <td>2 E 55th St Unit 908W33Manhattan, NY 10022</td>\n",
       "      <td>NaN</td>\n",
       "      <td>New York</td>\n",
       "      <td>New York County</td>\n",
       "    </tr>\n",
       "    <tr>\n",
       "      <th>4</th>\n",
       "      <td>Brokered by Sotheby's International Realty - E...</td>\n",
       "      <td>Townhouse for sale</td>\n",
       "      <td>55000000</td>\n",
       "      <td>7</td>\n",
       "      <td>2.373861</td>\n",
       "      <td>14175.000000</td>\n",
       "      <td>New York, NY 10065</td>\n",
       "      <td>5 E 64th StNew York, NY 10065</td>\n",
       "      <td>NaN</td>\n",
       "      <td>New York</td>\n",
       "      <td>New York County</td>\n",
       "    </tr>\n",
       "    <tr>\n",
       "      <th>6</th>\n",
       "      <td>NaN</td>\n",
       "      <td>Condo for sale</td>\n",
       "      <td>899500</td>\n",
       "      <td>2</td>\n",
       "      <td>2.000000</td>\n",
       "      <td>2184.207862</td>\n",
       "      <td>New York, NY 10027</td>\n",
       "      <td>157 W 126th St Unit 1BNew York, NY 10027</td>\n",
       "      <td>NaN</td>\n",
       "      <td>New York County</td>\n",
       "      <td>New York</td>\n",
       "    </tr>\n",
       "    <tr>\n",
       "      <th>7</th>\n",
       "      <td>Brokered by Connie Profaci Realty</td>\n",
       "      <td>House for sale</td>\n",
       "      <td>16800000</td>\n",
       "      <td>8</td>\n",
       "      <td>16.000000</td>\n",
       "      <td>33000.000000</td>\n",
       "      <td>Staten Island, NY 10304</td>\n",
       "      <td>177 Benedict RdStaten Island, NY 10304</td>\n",
       "      <td>NaN</td>\n",
       "      <td>New York</td>\n",
       "      <td>Richmond County</td>\n",
       "    </tr>\n",
       "    <tr>\n",
       "      <th>...</th>\n",
       "      <td>...</td>\n",
       "      <td>...</td>\n",
       "      <td>...</td>\n",
       "      <td>...</td>\n",
       "      <td>...</td>\n",
       "      <td>...</td>\n",
       "      <td>...</td>\n",
       "      <td>...</td>\n",
       "      <td>...</td>\n",
       "      <td>...</td>\n",
       "      <td>...</td>\n",
       "    </tr>\n",
       "    <tr>\n",
       "      <th>4806</th>\n",
       "      <td>NaN</td>\n",
       "      <td>Multi-family home for sale</td>\n",
       "      <td>1700000</td>\n",
       "      <td>3</td>\n",
       "      <td>7.000000</td>\n",
       "      <td>7854.000000</td>\n",
       "      <td>Brooklyn, NY 11232</td>\n",
       "      <td>448 40th StBrooklyn, NY 11232</td>\n",
       "      <td>NaN</td>\n",
       "      <td>New York</td>\n",
       "      <td>Kings County</td>\n",
       "    </tr>\n",
       "    <tr>\n",
       "      <th>4807</th>\n",
       "      <td>Brokered by Engel &amp; V�������</td>\n",
       "      <td>Co-op for sale</td>\n",
       "      <td>1950000</td>\n",
       "      <td>2</td>\n",
       "      <td>4.000000</td>\n",
       "      <td>2184.207862</td>\n",
       "      <td>New York, NY 10021</td>\n",
       "      <td>700 Park Ave Unit 20ANew York, NY 10021</td>\n",
       "      <td>NaN</td>\n",
       "      <td>New York County</td>\n",
       "      <td>New York</td>\n",
       "    </tr>\n",
       "    <tr>\n",
       "      <th>4811</th>\n",
       "      <td>NaN</td>\n",
       "      <td>Co-op for sale</td>\n",
       "      <td>245000</td>\n",
       "      <td>1</td>\n",
       "      <td>1.000000</td>\n",
       "      <td>2184.207862</td>\n",
       "      <td>Rego Park, NY 11374</td>\n",
       "      <td>97-40 62 Dr Unit LgRego Park, NY 11374</td>\n",
       "      <td>United States</td>\n",
       "      <td>New York</td>\n",
       "      <td>Queens County</td>\n",
       "    </tr>\n",
       "    <tr>\n",
       "      <th>4812</th>\n",
       "      <td>NaN</td>\n",
       "      <td>Co-op for sale</td>\n",
       "      <td>1275000</td>\n",
       "      <td>1</td>\n",
       "      <td>1.000000</td>\n",
       "      <td>2184.207862</td>\n",
       "      <td>New York, NY 10011</td>\n",
       "      <td>427 W 21st St Unit GardenNew York, NY 10011</td>\n",
       "      <td>United States</td>\n",
       "      <td>New York</td>\n",
       "      <td>New York County</td>\n",
       "    </tr>\n",
       "    <tr>\n",
       "      <th>4813</th>\n",
       "      <td>NaN</td>\n",
       "      <td>Condo for sale</td>\n",
       "      <td>598125</td>\n",
       "      <td>2</td>\n",
       "      <td>1.000000</td>\n",
       "      <td>655.000000</td>\n",
       "      <td>Elmhurst, NY 11373</td>\n",
       "      <td>91-23 Corona Ave Unit 4GElmhurst, NY 11373</td>\n",
       "      <td>NaN</td>\n",
       "      <td>Queens County</td>\n",
       "      <td>Queens</td>\n",
       "    </tr>\n",
       "  </tbody>\n",
       "</table>\n",
       "<p>4040 rows × 11 columns</p>\n",
       "</div>"
      ],
      "text/plain": [
       "                                            BROKERTITLE  \\\n",
       "2                                Brokered by Sowae Corp   \n",
       "3                                   Brokered by COMPASS   \n",
       "4     Brokered by Sotheby's International Realty - E...   \n",
       "6                                                   NaN   \n",
       "7                     Brokered by Connie Profaci Realty   \n",
       "...                                                 ...   \n",
       "4806                                                NaN   \n",
       "4807                       Brokered by Engel & V�������   \n",
       "4811                                                NaN   \n",
       "4812                                                NaN   \n",
       "4813                                                NaN   \n",
       "\n",
       "                            TYPE     PRICE  BEDS       BATH  PROPERTYSQFT  \\\n",
       "2                 House for sale    260000     4   2.000000   2015.000000   \n",
       "3                 Condo for sale     69000     3   1.000000    445.000000   \n",
       "4             Townhouse for sale  55000000     7   2.373861  14175.000000   \n",
       "6                 Condo for sale    899500     2   2.000000   2184.207862   \n",
       "7                 House for sale  16800000     8  16.000000  33000.000000   \n",
       "...                          ...       ...   ...        ...           ...   \n",
       "4806  Multi-family home for sale   1700000     3   7.000000   7854.000000   \n",
       "4807              Co-op for sale   1950000     2   4.000000   2184.207862   \n",
       "4811              Co-op for sale    245000     1   1.000000   2184.207862   \n",
       "4812              Co-op for sale   1275000     1   1.000000   2184.207862   \n",
       "4813              Condo for sale    598125     2   1.000000    655.000000   \n",
       "\n",
       "                        STATE                                 MAIN_ADDRESS  \\\n",
       "2     Staten Island, NY 10312      620 Sinclair AveStaten Island, NY 10312   \n",
       "3         Manhattan, NY 10022   2 E 55th St Unit 908W33Manhattan, NY 10022   \n",
       "4          New York, NY 10065                5 E 64th StNew York, NY 10065   \n",
       "6          New York, NY 10027     157 W 126th St Unit 1BNew York, NY 10027   \n",
       "7     Staten Island, NY 10304       177 Benedict RdStaten Island, NY 10304   \n",
       "...                       ...                                          ...   \n",
       "4806       Brooklyn, NY 11232                448 40th StBrooklyn, NY 11232   \n",
       "4807       New York, NY 10021      700 Park Ave Unit 20ANew York, NY 10021   \n",
       "4811      Rego Park, NY 11374       97-40 62 Dr Unit LgRego Park, NY 11374   \n",
       "4812       New York, NY 10011  427 W 21st St Unit GardenNew York, NY 10011   \n",
       "4813       Elmhurst, NY 11373   91-23 Corona Ave Unit 4GElmhurst, NY 11373   \n",
       "\n",
       "     ADMINISTRATIVE_AREA_LEVEL_2         LOCALITY      SUBLOCALITY  \n",
       "2                            NaN         New York  Richmond County  \n",
       "3                            NaN         New York  New York County  \n",
       "4                            NaN         New York  New York County  \n",
       "6                            NaN  New York County         New York  \n",
       "7                            NaN         New York  Richmond County  \n",
       "...                          ...              ...              ...  \n",
       "4806                         NaN         New York     Kings County  \n",
       "4807                         NaN  New York County         New York  \n",
       "4811               United States         New York    Queens County  \n",
       "4812               United States         New York  New York County  \n",
       "4813                         NaN    Queens County           Queens  \n",
       "\n",
       "[4040 rows x 11 columns]"
      ]
     },
     "execution_count": 15,
     "metadata": {},
     "output_type": "execute_result"
    }
   ],
   "source": [
    "# Does a cells have null values\n",
    "df.isna()\n",
    "df.notna()\n",
    "\n",
    "# Get all columns with null values\n",
    "df.isna().any()\n",
    "\n",
    "# Get all rows with null values\n",
    "df.loc[df.isna().any(axis=1)]"
   ]
  },
  {
   "cell_type": "code",
   "execution_count": null,
   "metadata": {},
   "outputs": [],
   "source": [
    "# Drop all rows with null values\n",
    "df.dropna()"
   ]
  },
  {
   "cell_type": "code",
   "execution_count": null,
   "metadata": {},
   "outputs": [],
   "source": [
    "# Drop all columns with null values\n",
    "df.dropna(axis=1)"
   ]
  },
  {
   "cell_type": "markdown",
   "metadata": {},
   "source": [
    "## 5. Missing Data By Column\n",
    "Steps:\n",
    "1. Use Descriptive Statistics to examine data\n",
    "2. Identify missing values\n",
    "3. Understand why the data is missing\n",
    "4. Decide to impute or drop values\n",
    "5. Document your approach"
   ]
  },
  {
   "cell_type": "markdown",
   "metadata": {},
   "source": [
    "\n",
    "### Broker Title"
   ]
  },
  {
   "cell_type": "code",
   "execution_count": 201,
   "metadata": {},
   "outputs": [
    {
     "name": "stdout",
     "output_type": "stream",
     "text": [
      "62.71791640411678\n"
     ]
    }
   ],
   "source": [
    "# Check values of the column\n",
    "df['BROKERTITLE'].head(20)\n",
    "\n",
    "# Figure out how many missing values\n",
    "df['BROKERTITLE'].isna().sum()\n",
    "\n",
    "# Determine the percentage of missing values\n",
    "num_rows = df.shape[0]\n",
    "missing_broker_rows = df['BROKERTITLE'].isna().sum()\n",
    "print((missing_broker_rows/num_rows) * 100)"
   ]
  },
  {
   "cell_type": "markdown",
   "metadata": {},
   "source": [
    "We will drop the column BROKERTITLE as more than 50% of the data is missing, and it is not required for the remainder of our analysis."
   ]
  },
  {
   "cell_type": "code",
   "execution_count": null,
   "metadata": {},
   "outputs": [],
   "source": [
    "# Drop the entire column\n",
    "df = df.drop(\"BROKERTITLE\", axis=1)\n",
    "df.columns"
   ]
  },
  {
   "cell_type": "markdown",
   "metadata": {},
   "source": [
    "# Homework"
   ]
  },
  {
   "cell_type": "markdown",
   "metadata": {},
   "source": [
    "## Question 1"
   ]
  },
  {
   "cell_type": "code",
   "execution_count": 5,
   "metadata": {},
   "outputs": [
    {
     "data": {
      "text/html": [
       "<div>\n",
       "<style scoped>\n",
       "    .dataframe tbody tr th:only-of-type {\n",
       "        vertical-align: middle;\n",
       "    }\n",
       "\n",
       "    .dataframe tbody tr th {\n",
       "        vertical-align: top;\n",
       "    }\n",
       "\n",
       "    .dataframe thead th {\n",
       "        text-align: right;\n",
       "    }\n",
       "</style>\n",
       "<table border=\"1\" class=\"dataframe\">\n",
       "  <thead>\n",
       "    <tr style=\"text-align: right;\">\n",
       "      <th></th>\n",
       "      <th>ADMINISTRATIVE_AREA_LEVEL_2</th>\n",
       "      <th>SUBLOCALITY</th>\n",
       "    </tr>\n",
       "  </thead>\n",
       "  <tbody>\n",
       "    <tr>\n",
       "      <th>0</th>\n",
       "      <td>New York County</td>\n",
       "      <td>Manhattan</td>\n",
       "    </tr>\n",
       "    <tr>\n",
       "      <th>1</th>\n",
       "      <td>United States</td>\n",
       "      <td>New York County</td>\n",
       "    </tr>\n",
       "    <tr>\n",
       "      <th>5</th>\n",
       "      <td>United States</td>\n",
       "      <td>Kings County</td>\n",
       "    </tr>\n",
       "    <tr>\n",
       "      <th>9</th>\n",
       "      <td>New York</td>\n",
       "      <td>Brooklyn</td>\n",
       "    </tr>\n",
       "    <tr>\n",
       "      <th>11</th>\n",
       "      <td>United States</td>\n",
       "      <td>Richmond County</td>\n",
       "    </tr>\n",
       "    <tr>\n",
       "      <th>18</th>\n",
       "      <td>New York</td>\n",
       "      <td>The Bronx</td>\n",
       "    </tr>\n",
       "    <tr>\n",
       "      <th>21</th>\n",
       "      <td>New York</td>\n",
       "      <td>Queens</td>\n",
       "    </tr>\n",
       "    <tr>\n",
       "      <th>24</th>\n",
       "      <td>United States</td>\n",
       "      <td>Richmond County</td>\n",
       "    </tr>\n",
       "    <tr>\n",
       "      <th>25</th>\n",
       "      <td>United States</td>\n",
       "      <td>Queens County</td>\n",
       "    </tr>\n",
       "    <tr>\n",
       "      <th>28</th>\n",
       "      <td>United States</td>\n",
       "      <td>Queens County</td>\n",
       "    </tr>\n",
       "    <tr>\n",
       "      <th>32</th>\n",
       "      <td>New York</td>\n",
       "      <td>Staten Island</td>\n",
       "    </tr>\n",
       "    <tr>\n",
       "      <th>35</th>\n",
       "      <td>New York</td>\n",
       "      <td>Brooklyn</td>\n",
       "    </tr>\n",
       "    <tr>\n",
       "      <th>36</th>\n",
       "      <td>New York</td>\n",
       "      <td>Staten Island</td>\n",
       "    </tr>\n",
       "    <tr>\n",
       "      <th>38</th>\n",
       "      <td>New York</td>\n",
       "      <td>Brooklyn</td>\n",
       "    </tr>\n",
       "    <tr>\n",
       "      <th>40</th>\n",
       "      <td>United States</td>\n",
       "      <td>Bronx County</td>\n",
       "    </tr>\n",
       "    <tr>\n",
       "      <th>41</th>\n",
       "      <td>United States</td>\n",
       "      <td>Kings County</td>\n",
       "    </tr>\n",
       "    <tr>\n",
       "      <th>42</th>\n",
       "      <td>United States</td>\n",
       "      <td>Queens County</td>\n",
       "    </tr>\n",
       "    <tr>\n",
       "      <th>44</th>\n",
       "      <td>New York</td>\n",
       "      <td>Queens</td>\n",
       "    </tr>\n",
       "    <tr>\n",
       "      <th>47</th>\n",
       "      <td>United States</td>\n",
       "      <td>Queens County</td>\n",
       "    </tr>\n",
       "    <tr>\n",
       "      <th>48</th>\n",
       "      <td>New York</td>\n",
       "      <td>Staten Island</td>\n",
       "    </tr>\n",
       "  </tbody>\n",
       "</table>\n",
       "</div>"
      ],
      "text/plain": [
       "   ADMINISTRATIVE_AREA_LEVEL_2      SUBLOCALITY\n",
       "0              New York County        Manhattan\n",
       "1                United States  New York County\n",
       "5                United States     Kings County\n",
       "9                     New York         Brooklyn\n",
       "11               United States  Richmond County\n",
       "18                    New York        The Bronx\n",
       "21                    New York           Queens\n",
       "24               United States  Richmond County\n",
       "25               United States    Queens County\n",
       "28               United States    Queens County\n",
       "32                    New York    Staten Island\n",
       "35                    New York         Brooklyn\n",
       "36                    New York    Staten Island\n",
       "38                    New York         Brooklyn\n",
       "40               United States     Bronx County\n",
       "41               United States     Kings County\n",
       "42               United States    Queens County\n",
       "44                    New York           Queens\n",
       "47               United States    Queens County\n",
       "48                    New York    Staten Island"
      ]
     },
     "execution_count": 5,
     "metadata": {},
     "output_type": "execute_result"
    }
   ],
   "source": [
    "df = pd.read_csv(\"data/NY-House-Dataset-Small.csv\")\n",
    "admin2 = df[['ADMINISTRATIVE_AREA_LEVEL_2', 'SUBLOCALITY']]\n",
    "admin2.dropna().head(20)"
   ]
  },
  {
   "cell_type": "markdown",
   "metadata": {},
   "source": [
    "### Conclusion\n",
    "\n",
    "It seems like the secondary administrative area represents a second/broader name for the area of the house. If I had to fill in this column, I would use some kind of lookup table based on the house's sublocality."
   ]
  },
  {
   "cell_type": "markdown",
   "metadata": {},
   "source": [
    "## Question 2"
   ]
  },
  {
   "cell_type": "code",
   "execution_count": 21,
   "metadata": {},
   "outputs": [
    {
     "data": {
      "text/plain": [
       "24"
      ]
     },
     "execution_count": 21,
     "metadata": {},
     "output_type": "execute_result"
    }
   ],
   "source": [
    "loca = df['LOCALITY']\n",
    "loca.isna().sum()"
   ]
  },
  {
   "cell_type": "code",
   "execution_count": 20,
   "metadata": {},
   "outputs": [
    {
     "data": {
      "text/plain": [
       "LOCALITY\n",
       "New York           2468\n",
       "New York County     966\n",
       "Queens County       555\n",
       "Kings County        462\n",
       "Bronx County        179\n",
       "Richmond County      58\n",
       "United States        34\n",
       "Na                   30\n",
       "-                    22\n",
       "Brooklyn              6\n",
       "Queens                6\n",
       "The Bronx             4\n",
       "Flatbush              1\n",
       "Name: count, dtype: int64"
      ]
     },
     "execution_count": 20,
     "metadata": {},
     "output_type": "execute_result"
    }
   ],
   "source": [
    "loca.value_counts()"
   ]
  },
  {
   "cell_type": "code",
   "execution_count": 24,
   "metadata": {},
   "outputs": [
    {
     "data": {
      "text/plain": [
       "76"
      ]
     },
     "execution_count": 24,
     "metadata": {},
     "output_type": "execute_result"
    }
   ],
   "source": [
    "def filter_nas(locality):\n",
    "    if locality == 'Na' or locality == '-':\n",
    "        return None\n",
    "    return locality\n",
    "loca = loca.map(filter_nas)\n",
    "loca.isna().sum()"
   ]
  },
  {
   "cell_type": "markdown",
   "metadata": {},
   "source": [
    "These NA values could be handled in two ways. First of all, they could be ommitted from any data processing. Or the locality of each NA house could be looked up through a mapping service by the address or sublocality."
   ]
  },
  {
   "cell_type": "markdown",
   "metadata": {},
   "source": [
    "## Question 3"
   ]
  },
  {
   "cell_type": "code",
   "execution_count": 25,
   "metadata": {},
   "outputs": [
    {
     "data": {
      "text/plain": [
       "0"
      ]
     },
     "execution_count": 25,
     "metadata": {},
     "output_type": "execute_result"
    }
   ],
   "source": [
    "price = df['PRICE']\n",
    "price.isna().sum()"
   ]
  },
  {
   "cell_type": "code",
   "execution_count": 26,
   "metadata": {},
   "outputs": [
    {
     "data": {
      "text/plain": [
       "PRICE\n",
       "0          79\n",
       "699000     51\n",
       "599000     47\n",
       "799000     46\n",
       "499000     42\n",
       "           ..\n",
       "930000      1\n",
       "249900      1\n",
       "999990      1\n",
       "1248888     1\n",
       "598125      1\n",
       "Name: count, Length: 1261, dtype: int64"
      ]
     },
     "execution_count": 26,
     "metadata": {},
     "output_type": "execute_result"
    }
   ],
   "source": [
    "price.value_counts()"
   ]
  },
  {
   "cell_type": "markdown",
   "metadata": {},
   "source": [
    "There are thus 79 houses with no price data."
   ]
  },
  {
   "cell_type": "markdown",
   "metadata": {},
   "source": [
    "One idea to fill in these missing prices is to use the average of the entire dataset. This will not skew the entire set, but it will not be accurate for the particular house. Another idea is to use the \"nearest-neighbor\" or \"k-nearest-neighbors\" thought process: in other words, use some kind of similarity metric to find the closest house in terms of location and size and then use that price as the price for the specified house."
   ]
  }
 ],
 "metadata": {
  "kernelspec": {
   "display_name": ".venv",
   "language": "python",
   "name": "python3"
  },
  "language_info": {
   "codemirror_mode": {
    "name": "ipython",
    "version": 3
   },
   "file_extension": ".py",
   "mimetype": "text/x-python",
   "name": "python",
   "nbconvert_exporter": "python",
   "pygments_lexer": "ipython3",
   "version": "3.10.2"
  }
 },
 "nbformat": 4,
 "nbformat_minor": 2
}
